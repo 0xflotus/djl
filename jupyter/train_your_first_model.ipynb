{
 "cells": [
  {
   "cell_type": "markdown",
   "metadata": {},
   "source": [
    "# Train your first model\n",
    "\n",
    "\n",
    "In this tutorial, you will learn how to train an image classification model that can recognize handwritten digit.\n",
    "\n",
    "## Preparation\n",
    "\n",
    "This tutorial requires the installation of Java Kernel. Read [here](https://github.com/awslabs/djl/blob/master/jupyter/README.md) to install Java Kernel."
   ]
  },
  {
   "cell_type": "code",
   "execution_count": null,
   "metadata": {},
   "outputs": [],
   "source": [
    "%mavenRepo s3 https://djl-ai.s3.amazonaws.com/dev"
   ]
  },
  {
   "cell_type": "code",
   "execution_count": null,
   "metadata": {},
   "outputs": [],
   "source": [
    "%maven ai.djl:api:0.2.0-SNAPSHOT\n",
    "%maven ai.djl:basicdataset:0.2.0-SNAPSHOT\n",
    "%maven ai.djl:model-zoo:0.2.0-SNAPSHOT\n",
    "%maven ai.djl:repository:0.2.0-SNAPSHOT\n",
    "%maven ai.djl.mxnet:mxnet-engine:0.2.0-SNAPSHOT\n",
    "%maven org.slf4j:slf4j-api:1.7.26\n",
    "%maven org.slf4j:slf4j-simple:1.7.26\n",
    "%maven net.java.dev.jna:jna:5.3.0\n",
    "// %maven ai.djl.mxnet:mxnet-native-mkl:jar:osx-x86_64:1.6.0"
   ]
  },
  {
   "cell_type": "markdown",
   "metadata": {},
   "source": [
    "### Include MXNet engine dependency\n",
    "\n",
    "You may need to update the following xml `<classifier>` section for your platform. This may take some time when downloading the library for the first time.\n",
    "\n",
    "Mac OS\n",
    "* **osx**-x86_64\n",
    "\n",
    "Linux\n",
    "\n",
    "* **linux**-x86_64"
   ]
  },
  {
   "cell_type": "code",
   "execution_count": null,
   "metadata": {},
   "outputs": [],
   "source": [
    "%%loadFromPOM\n",
    "  <repositories>\n",
    "    <repository>\n",
    "      <id>djl.ai</id>\n",
    "      <url>https://djl-ai.s3.amazonaws.com/dev</url>\n",
    "    </repository>\n",
    "  </repositories>\n",
    "\n",
    "  <dependencies>\n",
    "    <dependency>\n",
    "      <groupId>ai.djl.mxnet</groupId>\n",
    "      <artifactId>mxnet-native-mkl</artifactId>\n",
    "      <version>1.6.0</version>\n",
    "      <classifier>osx-x86_64</classifier>\n",
    "    </dependency>\n",
    "  </dependencies>\n"
   ]
  },
  {
   "cell_type": "code",
   "execution_count": null,
   "metadata": {},
   "outputs": [],
   "source": [
    "import java.nio.file.*;\n",
    "\n",
    "import ai.djl.*;\n",
    "import ai.djl.basicdataset.*;\n",
    "import ai.djl.ndarray.types.*;\n",
    "import ai.djl.training.*;\n",
    "import ai.djl.training.dataset.*;\n",
    "import ai.djl.training.initializer.*;\n",
    "import ai.djl.training.loss.*;\n",
    "import ai.djl.training.metrics.*;\n",
    "import ai.djl.training.optimizer.*;\n",
    "import ai.djl.training.optimizer.learningrate.*;\n",
    "import ai.djl.training.util.*;\n",
    "import ai.djl.zoo.cv.classification.*;"
   ]
  },
  {
   "cell_type": "markdown",
   "metadata": {},
   "source": [
    "# Step 1: Create your neural network\n",
    "\n",
    "In this tutoral, we use built-in MLP block from Model Zoo. To learn more about MLP block see [here](create_your_first_network.ipynb)\n",
    "\n",
    "Images in MNIST dataset is 28x28 grayscale image. So we create MLP back with 28 x 28 input."
   ]
  },
  {
   "cell_type": "code",
   "execution_count": null,
   "metadata": {},
   "outputs": [],
   "source": [
    "Model model = Model.newInstance();\n",
    "model.setBlock(new Mlp(28, 28));"
   ]
  },
  {
   "cell_type": "markdown",
   "metadata": {},
   "source": [
    "# Step 2: Setup your training configurations\n",
    "\n",
    "\n",
    "The following is a few common items you need to configure:\n",
    "* batch size: to take the advantage of GPU, we usually train model with batch, pick a proper size based on your model.\n",
    "* [`Initializer`](https://djl-ai.s3.amazonaws.com/java-api/0.2.0/api/index.html?ai/djl/training/initializer/Initializer.html): Pick an `Initializer` to initialize model parameters.\n",
    "* [`Loss`](https://djl-ai.s3.amazonaws.com/java-api/0.2.0/api/index.html?ai/djl/training/loss/Loss.html) function: A loss function is used to measure how good (or bad) our models are. Because the lower value of the function is better, we call it \"loss\" function.\n",
    "* [`Optimizer`](https://djl-ai.s3.amazonaws.com/java-api/0.2.0/api/index.html?ai/djl/training/optimizer/Optimizer.html): Optimization algorithms allowed us to continue updating model parameters and to minimize the value of the loss function.\n"
   ]
  },
  {
   "cell_type": "code",
   "execution_count": null,
   "metadata": {},
   "outputs": [],
   "source": [
    "int batchSize = 32;\n",
    "\n",
    "Initializer initializer = new XavierInitializer();\n",
    "Loss loss = Loss.softmaxCrossEntropyLoss();\n",
    "Optimizer optimizer = Optimizer.adam()\n",
    "        .setRescaleGrad(1.0f / batchSize)\n",
    "        .build();\n",
    "Accuracy accuracy = new Accuracy();\n",
    "\n",
    "TrainingConfig config = new DefaultTrainingConfig(initializer, loss)\n",
    "        .setOptimizer(optimizer)\n",
    "        .addTrainingMetric(accuracy)\n",
    "        .setBatchSize(batchSize);"
   ]
  },
  {
   "cell_type": "markdown",
   "metadata": {},
   "source": [
    "# Step 3: Prepare MNIST dataset for training\n",
    "\n",
    "The [MNIST](https://en.wikipedia.org/wiki/MNIST_database) dataset is a database of handwritten digits that is commonly used for training image classification models. \n",
    "\n",
    "We provide the MNIST dataset as a built-in dataset, which may it easy for you to use it."
   ]
  },
  {
   "cell_type": "code",
   "execution_count": null,
   "metadata": {},
   "outputs": [],
   "source": [
    "Mnist mnist = Mnist.builder(model.getNDManager()).setSampling(batchSize, true).build();\n",
    "mnist.prepare(); // Download MNIST dataset, this may take a few seconds."
   ]
  },
  {
   "cell_type": "markdown",
   "metadata": {},
   "source": [
    "# Step 4: Create a Trainer\n",
    "\n",
    "Now you can create a `Trainer` with your training configuration.\n",
    "You need to initialize the model paramters in the trainer with proper input shape:\n",
    "* The first axis of the input is batch, that won't impact the parameter, we we can just use 1 here\n",
    "* The second axis of MNIST image, which is 28 * 28.\n"
   ]
  },
  {
   "cell_type": "code",
   "execution_count": null,
   "metadata": {},
   "outputs": [],
   "source": [
    "Trainer trainer = model.newTrainer(config);\n",
    "trainer.initialize(new Shape(1, 28 * 28));"
   ]
  },
  {
   "cell_type": "markdown",
   "metadata": {},
   "source": [
    "# Step 5: Train your model"
   ]
  },
  {
   "cell_type": "code",
   "execution_count": null,
   "metadata": {},
   "outputs": [],
   "source": [
    "ProgressBar progressBar = new ProgressBar(\"Training\", (int)(mnist.size() / batchSize));\n",
    "int epoch = 2;\n",
    "float trainingAccuracy = 0f;\n",
    "for (int i = 0; i < epoch; ++i) {\n",
    "    int index = 0;\n",
    "    for (Batch batch : trainer.iterateDataset(mnist)) {\n",
    "        trainer.trainBatch(batch);\n",
    "        trainer.step();\n",
    "        batch.close();\n",
    "\n",
    "        trainingAccuracy = accuracy.getValue();\n",
    "        progressBar.update(index++, String.format(\"Epoch: %d, Accuracy: %.3f\", i, trainingAccuracy));\n",
    "    }\n",
    "    // reset training and validation metric at end of epoch\n",
    "    trainer.resetTrainingMetrics();\n",
    "}"
   ]
  },
  {
   "cell_type": "markdown",
   "metadata": {},
   "source": [
    "# Step 6: Save your model\n",
    "\n",
    "While saving your model, you can add metadata to it, such as: training accuracy, number epoch, etc."
   ]
  },
  {
   "cell_type": "code",
   "execution_count": null,
   "metadata": {},
   "outputs": [],
   "source": [
    "Path modelDir = Paths.get(\"build/mlp\");\n",
    "Files.createDirectories(modelDir);\n",
    "\n",
    "model.setProperty(\"Epoch\", String.valueOf(epoch));\n",
    "model.setProperty(\"Accuracy\", String.valueOf(trainingAccuracy));\n",
    "model.save(modelDir, \"mlp\");\n",
    "\n",
    "model"
   ]
  },
  {
   "cell_type": "markdown",
   "metadata": {},
   "source": [
    "# Summary\n",
    "\n",
    "Now you successfully trained your model that can recognize handwritten digit. You can proceed to next chapter: [Run image classification with your model](image_classification_with_your_model.ipynb).\n",
    "\n",
    "You can find complete source code in [examples project](https://github.com/awslabs/djl/blob/master/examples/docs/train_your_first_model.md)."
   ]
  },
  {
   "cell_type": "code",
   "execution_count": null,
   "metadata": {},
   "outputs": [],
   "source": []
  }
 ],
 "metadata": {
  "kernelspec": {
   "display_name": "Java",
   "language": "java",
   "name": "java"
  },
  "language_info": {
   "codemirror_mode": "java",
   "file_extension": ".jshell",
   "mimetype": "text/x-java-source",
   "name": "Java",
   "pygments_lexer": "java",
   "version": "12.0.2+10"
  }
 },
 "nbformat": 4,
 "nbformat_minor": 2
}
