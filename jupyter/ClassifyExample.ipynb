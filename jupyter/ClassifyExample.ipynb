{
 "cells": [
  {
   "cell_type": "code",
   "execution_count": null,
   "metadata": {},
   "outputs": [],
   "source": [
    "%mavenRepo s3 https://joule.s3.amazonaws.com/repo"
   ]
  },
  {
   "cell_type": "code",
   "execution_count": null,
   "metadata": {},
   "outputs": [],
   "source": [
    "%maven software.amazon.ai:joule-api:0.2.0-SNAPSHOT\n",
    "%maven org.apache.mxnet:mxnet-joule:0.2.0-SNAPSHOT\n",
    "%maven org.slf4j:slf4j-api:1.7.26\n",
    "%maven net.java.dev.jna:jna:5.3.0\n",
    "// %maven org.apache.mxnet:mxnet-native-mkl:jar:osx-x86_64:1.5.0-SNAPSHOT"
   ]
  },
  {
   "cell_type": "code",
   "execution_count": null,
   "metadata": {},
   "outputs": [],
   "source": [
    "%%loadFromPOM\n",
    "  <repositories>\n",
    "    <repository>\n",
    "      <id>joule</id>\n",
    "      <url>https://joule.s3.amazonaws.com/repo</url>\n",
    "    </repository>\n",
    "  </repositories>\n",
    "\n",
    "  <dependencies>\n",
    "    <dependency>\n",
    "      <groupId>org.apache.mxnet</groupId>\n",
    "      <artifactId>mxnet-native-mkl</artifactId>\n",
    "      <version>1.5.0-SNAPSHOT</version>\n",
    "      <classifier>osx-x86_64</classifier>\n",
    "    </dependency>\n",
    "  </dependencies>\n"
   ]
  },
  {
   "cell_type": "code",
   "execution_count": null,
   "metadata": {},
   "outputs": [],
   "source": [
    "import java.awt.image.*;\n",
    "import java.nio.file.*;\n",
    "import java.util.*;\n",
    "import software.amazon.ai.*;\n",
    "import software.amazon.ai.inference.*;\n",
    "import software.amazon.ai.ndarray.*;\n",
    "import software.amazon.ai.ndarray.index.*;\n",
    "import software.amazon.ai.modality.*;\n",
    "import software.amazon.ai.modality.cv.*;\n",
    "import software.amazon.ai.util.*;\n"
   ]
  },
  {
   "cell_type": "code",
   "execution_count": null,
   "metadata": {},
   "outputs": [],
   "source": [
    "String userHome = System.getProperty(\"user.home\");\n",
    "Path modelDir = Paths.get(userHome, \".model_zoo/squeezenet_v1.1\");\n",
    "Path imageFile = Paths.get(\"../examples/src/test/resources/kitten.jpg\").toRealPath();\n",
    "String modelName = \"squeezenet_v1.1\";\n",
    "\n",
    "modelDir"
   ]
  },
  {
   "cell_type": "code",
   "execution_count": null,
   "metadata": {},
   "outputs": [],
   "source": [
    "BufferedImage img = Images.loadImageFromFile(imageFile);\n",
    "img"
   ]
  },
  {
   "cell_type": "code",
   "execution_count": null,
   "metadata": {},
   "outputs": [],
   "source": [
    "Model model = Model.loadModel(modelDir, modelName);\n",
    "List<String> synset = model.getArtifact(\"synset.txt\", Utils::readLines);"
   ]
  },
  {
   "cell_type": "code",
   "execution_count": null,
   "metadata": {},
   "outputs": [],
   "source": [
    "// Resize image to match the size that get trained for the model\n",
    "\n",
    "BufferedImage resizedImg = Images.resizeImage(img, 224, 224);"
   ]
  },
  {
   "cell_type": "code",
   "execution_count": null,
   "metadata": {},
   "outputs": [],
   "source": [
    "DefaultImageTranslator translator = new DefaultImageTranslator();\n",
    "Predictor<BufferedImage, NDList> predictor = Predictor.newInstance(model, translator);\n",
    "NDList ndList = predictor.predict(resizedImg);"
   ]
  },
  {
   "cell_type": "code",
   "execution_count": null,
   "metadata": {},
   "outputs": [],
   "source": [
    "// Post processing\n",
    "\n",
    "NDArray array = ndList.get(0).get(0);\n",
    "NDArray sorted = array.argsort(-1, false);\n",
    "NDArray top = sorted.get(0);\n",
    "\n",
    "top"
   ]
  },
  {
   "cell_type": "code",
   "execution_count": null,
   "metadata": {},
   "outputs": [],
   "source": [
    "int index = sorted.getInt(0);"
   ]
  },
  {
   "cell_type": "code",
   "execution_count": null,
   "metadata": {},
   "outputs": [],
   "source": [
    "String className = synset.get(index);\n",
    "float probability = array.getFloat(index);\n",
    "\n",
    "className + \": \" + probability\n"
   ]
  },
  {
   "cell_type": "code",
   "execution_count": null,
   "metadata": {},
   "outputs": [],
   "source": []
  }
 ],
 "metadata": {
  "kernelspec": {
   "display_name": "Java",
   "language": "java",
   "name": "java"
  },
  "language_info": {
   "codemirror_mode": "java",
   "file_extension": ".jshell",
   "mimetype": "text/x-java-source",
   "name": "Java",
   "pygments_lexer": "java",
   "version": "12.0.1+12"
  }
 },
 "nbformat": 4,
 "nbformat_minor": 2
}
