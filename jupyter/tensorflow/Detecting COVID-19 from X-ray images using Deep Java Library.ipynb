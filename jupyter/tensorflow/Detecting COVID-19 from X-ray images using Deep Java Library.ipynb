{
 "cells": [
  {
   "cell_type": "markdown",
   "metadata": {},
   "source": [
    "# Detecting COVID-19 from X-ray images using Deep Java Library"
   ]
  },
  {
   "cell_type": "markdown",
   "metadata": {},
   "source": [
    "*Disclaimer: this tutorial is intended for educational purpose only. The application was developed using experimental code with a very limited COVID-19 dataset. The result should not be used for any medical diagnose for COVID-19. This content has not been reviewed or approved by any scientists or medical professionals.*\n",
    "\n",
    "## Introduction\n",
    "As you may already know, there is a on-going global pandemic caused by the [Coronavirus disease (COVID-19)](https://www.cdc.gov/coronavirus/2019-ncov/index.html).  It’s an infectious disease caused by a new virus that quickly spread over the world. It has caused severe health, financial, and economic impact globally. Many countries have declared a state of emergency and we are facing many unprecedented challenges in dealing with this disease. Testing COVID-19 is one of main challenges as we need to identify people with COVID-19 and isolate them to slow down the spread of the disease. To know more about COVID-19, please follow the [CDC website](https://www.cdc.gov/coronavirus/2019-ncov/index.html) and your local public health authorities.\n",
    "\n",
    "In this tutorial, we will use a pretrained Keras DJL model to predict if the X-ray scanned lungs is infected or not."
   ]
  },
  {
   "cell_type": "markdown",
   "metadata": {},
   "source": [
    "## Preparation\n",
    "\n",
    "This tutorial requires the installation of Java Kernel. To install the Java Kernel, see the [README](https://github.com/awslabs/djl/blob/master/jupyter/README.md).\n",
    "\n",
    "These are the dependencies we will use:"
   ]
  },
  {
   "cell_type": "code",
   "execution_count": null,
   "metadata": {},
   "outputs": [],
   "source": [
    "// %mavenRepo snapshots https://oss.sonatype.org/content/repositories/snapshots/\n",
    "\n",
    "%maven ai.djl:api:0.5.0\n",
    "%maven ai.djl.tensorflow:tensorflow-engine:0.5.0\n",
    "%maven ai.djl.tensorflow:tensorflow-model-zoo:0.5.0\n",
    "%maven org.slf4j:slf4j-api:1.7.26\n",
    "%maven org.slf4j:slf4j-simple:1.7.26\n",
    "\n",
    "// See https://github.com/awslabs/djl/blob/master/tensorflow/tensorflow-engine/README.md\n",
    "// for more TensorFlow library selection options\n",
    "%maven ai.djl.tensorflow:tensorflow-native-auto:2.1.0"
   ]
  },
  {
   "cell_type": "markdown",
   "metadata": {},
   "source": [
    "### Import java packages"
   ]
  },
  {
   "cell_type": "code",
   "execution_count": null,
   "metadata": {},
   "outputs": [],
   "source": [
    "import ai.djl.inference.Predictor;\n",
    "import ai.djl.modality.Classifications;\n",
    "import ai.djl.modality.cv.ImageFactory;\n",
    "import ai.djl.modality.cv.Image;\n",
    "import ai.djl.modality.cv.util.NDImageUtils;\n",
    "import ai.djl.ndarray.NDArray;\n",
    "import ai.djl.ndarray.NDList;\n",
    "import ai.djl.repository.zoo.Criteria;\n",
    "import ai.djl.repository.zoo.ModelZoo;\n",
    "import ai.djl.repository.zoo.ZooModel;\n",
    "import ai.djl.translate.TranslateException;\n",
    "import ai.djl.translate.Translator;\n",
    "import ai.djl.translate.TranslatorContext;\n",
    "import ai.djl.training.util.*;\n",
    "import ai.djl.util.*;\n",
    "import java.net.URL;\n",
    "import java.nio.file.Paths;\n",
    "import java.nio.file.Files;\n",
    "import java.util.Arrays;\n",
    "import java.util.List;"
   ]
  },
  {
   "cell_type": "markdown",
   "metadata": {},
   "source": [
    "### Download and unzip model file"
   ]
  },
  {
   "cell_type": "code",
   "execution_count": null,
   "metadata": {},
   "outputs": [],
   "source": [
    "var destination = \"build/tf_models/covid/saved_model.zip\";\n",
    "DownloadUtils.download(\"https://djl-tensorflow-javacpp.s3.amazonaws.com/tensorflow-models/covid-19/saved_model.zip\", destination, new ProgressBar());\n",
    "ZipUtils.unzip(Files.newInputStream(Paths.get(destination)), Paths.get(\"build/tf_models/covid\"));"
   ]
  },
  {
   "cell_type": "markdown",
   "metadata": {},
   "source": [
    "### Dive deep into Translator\n",
    "\n",
    "To successfully run inference, we need to define some preprocessing and post processing logic to achieve the best \n",
    "prediction result and understandable output."
   ]
  },
  {
   "cell_type": "code",
   "execution_count": null,
   "metadata": {},
   "outputs": [],
   "source": [
    "private static final class MyTranslator implements Translator<Image, Classifications> {\n",
    "\n",
    "    private static final List<String> CLASSES = Arrays.asList(\"covid-19\", \"normal\");\n",
    "\n",
    "    @Override\n",
    "    public NDList processInput(TranslatorContext ctx, Image input) {\n",
    "        NDArray array =\n",
    "                input.toNDArray(\n",
    "                        ctx.getNDManager(), Image.Flag.COLOR);\n",
    "        array = NDImageUtils.resize(array, 224).div(255.0f);\n",
    "        return new NDList(array);\n",
    "    }\n",
    "\n",
    "    @Override\n",
    "    public Classifications processOutput(TranslatorContext ctx, NDList list) {\n",
    "        NDArray probabilities = list.singletonOrThrow();\n",
    "        return new Classifications(CLASSES, probabilities);\n",
    "    }\n",
    "}"
   ]
  },
  {
   "cell_type": "markdown",
   "metadata": {},
   "source": [
    "As you can see above, the translator resizes the image to 224x224 and normalizes the image by dividing by 255 before feeding it into the model. When doing inference, you need to follow the same pre-processing procedure as was used during training. In this case, we need to match the Keras training code. After running prediction, the model outputs probabilities of each class as an [NDArray](https://javadoc.io/doc/ai.djl/api/latest/index.html). We need to tell the predictor to translate it back to classes, namely “covid-19” or “normal”.\n",
    "\n",
    "Until this point, all preparation work is done, we can start working on the prediction logic."
   ]
  },
  {
   "cell_type": "markdown",
   "metadata": {},
   "source": [
    "## Predict using DJL\n",
    "\n",
    "### Load the image\n",
    "We are going to load an CT scanned image of an infected lung from internet "
   ]
  },
  {
   "cell_type": "code",
   "execution_count": null,
   "metadata": {},
   "outputs": [],
   "source": [
    "var imagePath = \"https://github.com/ieee8023/covid-chestxray-dataset/blob/master/images/01E392EE-69F9-4E33-BFCE-E5C968654078.jpeg?raw=true\";\n",
    "var image = ImageFactory.getInstance().fromUrl(new URL(imagePath));\n",
    "image"
   ]
  },
  {
   "cell_type": "markdown",
   "metadata": {},
   "source": [
    "### Load your model\n",
    "Next, we will set the model zoo location to the `build/tf_models/covid/saved_model` directory we saved the model to. You can also create your own Repository to avoid manually managing files."
   ]
  },
  {
   "cell_type": "code",
   "execution_count": null,
   "metadata": {},
   "outputs": [],
   "source": [
    "System.setProperty(\"ai.djl.repository.zoo.location\", \"build/tf_models/covid/saved_model\");\n",
    "Criteria<Image, Classifications> criteria =\n",
    "        Criteria.builder()\n",
    "                .setTypes(Image.class, Classifications.class)\n",
    "                .optTranslator(new MyTranslator())\n",
    "                .build();\n",
    "ZooModel model = ModelZoo.loadModel(criteria);"
   ]
  },
  {
   "cell_type": "markdown",
   "metadata": {},
   "source": [
    "### Run inference\n",
    "Lastly, we will need to create a predictor using our model and translator. Once we have a predictor, we simply need to call the predict method on our test image."
   ]
  },
  {
   "cell_type": "code",
   "execution_count": null,
   "metadata": {},
   "outputs": [],
   "source": [
    "Predictor<Image, Classifications> predictor = model.newPredictor();\n",
    "Classifications classifications = predictor.predict(image);\n",
    "\n",
    "classifications"
   ]
  }
 ],
 "metadata": {
  "kernelspec": {
   "display_name": "Java",
   "language": "java",
   "name": "java"
  },
  "language_info": {
   "codemirror_mode": "java",
   "file_extension": ".jshell",
   "mimetype": "text/x-java-source",
   "name": "Java",
   "pygments_lexer": "java",
   "version": "11.0.5+10-LTS"
  }
 },
 "nbformat": 4,
 "nbformat_minor": 2
}
