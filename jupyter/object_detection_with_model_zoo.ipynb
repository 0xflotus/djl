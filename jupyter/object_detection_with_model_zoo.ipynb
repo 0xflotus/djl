{
 "cells": [
  {
   "cell_type": "markdown",
   "metadata": {},
   "source": [
    "# Object detection with model zoo model\n",
    "\n",
    "In this tutorial, we will show you how to use a built-in model zoo model (SSD) to achieve an [object detection](https://en.wikipedia.org/wiki/Object_detection) task.\n",
    "\n",
    "## Preparation\n",
    "\n",
    "This tutorial requires the installation of Java Kernel. Read [here](https://github.com/awslabs/djl/blob/master/jupyter/README.md) to install Java Kernel."
   ]
  },
  {
   "cell_type": "code",
   "execution_count": null,
   "metadata": {},
   "outputs": [],
   "source": [
    "%mavenRepo s3 https://djl-ai.s3.amazonaws.com/dev"
   ]
  },
  {
   "cell_type": "code",
   "execution_count": null,
   "metadata": {},
   "outputs": [],
   "source": [
    "%maven ai.djl:api:0.2.0-SNAPSHOT\n",
    "%maven ai.djl:repository:0.2.0-SNAPSHOT\n",
    "%maven ai.djl.mxnet:mxnet-engine:0.2.0-SNAPSHOT\n",
    "%maven ai.djl.mxnet:mxnet-model-zoo:0.2.0-SNAPSHOT\n",
    "%maven org.slf4j:slf4j-api:1.7.26\n",
    "%maven org.slf4j:slf4j-simple:1.7.26\n",
    "%maven net.java.dev.jna:jna:5.3.0\n",
    "// %maven ai.djl.mxnet:mxnet-native-mkl:jar:osx-x86_64:1.6.0"
   ]
  },
  {
   "cell_type": "markdown",
   "metadata": {},
   "source": [
    "### Include MXNet engine dependency\n",
    "\n",
    "You may need to update the following xml `<cliassifier>` section for your platform. This may take some time when the library is downloaded for the first time.\n",
    "\n",
    "Mac OS\n",
    "* **osx**-x86_64\n",
    "\n",
    "Linux\n",
    "\n",
    "* **linux**-x86_64"
   ]
  },
  {
   "cell_type": "code",
   "execution_count": null,
   "metadata": {},
   "outputs": [],
   "source": [
    "%%loadFromPOM\n",
    "  <repositories>\n",
    "    <repository>\n",
    "      <id>djl.ai</id>\n",
    "      <url>https://djl-ai.s3.amazonaws.com/dev</url>\n",
    "    </repository>\n",
    "  </repositories>\n",
    "\n",
    "  <dependencies>\n",
    "    <dependency>\n",
    "      <groupId>ai.djl.mxnet</groupId>\n",
    "      <artifactId>mxnet-native-mkl</artifactId>\n",
    "      <version>1.6.0</version>\n",
    "      <classifier>osx-x86_64</classifier>\n",
    "    </dependency>\n",
    "  </dependencies>"
   ]
  },
  {
   "cell_type": "code",
   "execution_count": null,
   "metadata": {},
   "outputs": [],
   "source": [
    "import java.awt.image.*;\n",
    "import java.nio.file.*;\n",
    "import ai.djl.modality.cv.*;\n",
    "import ai.djl.modality.cv.util.*;\n",
    "import ai.djl.mxnet.zoo.*;\n",
    "import ai.djl.repository.zoo.*;\n",
    "import ai.djl.training.util.*;"
   ]
  },
  {
   "cell_type": "markdown",
   "metadata": {},
   "source": [
    "## Step 1: Load image"
   ]
  },
  {
   "cell_type": "code",
   "execution_count": null,
   "metadata": {},
   "outputs": [],
   "source": [
    "var img = BufferedImageUtils.fromFile(Paths.get(\"../examples/src/test/resources/3dogs.jpg\"));\n",
    "img"
   ]
  },
  {
   "cell_type": "markdown",
   "metadata": {},
   "source": [
    "## Step 2: Load model zoo model\n",
    "\n",
    "In this example, we are loading a SSD (Single Shot MultiBox Detector) model from MXNet model zoo.\n",
    "For more information about model zoo, please read [here](https://github.com/awslabs/djl/blob/master/docs/model-zoo.md) "
   ]
  },
  {
   "cell_type": "code",
   "execution_count": null,
   "metadata": {},
   "outputs": [],
   "source": [
    "var model = MxModelZoo.SSD.loadModel(new ProgressBar());"
   ]
  },
  {
   "cell_type": "markdown",
   "metadata": {},
   "source": [
    "## Step 3: Create predictor and detect object in the image"
   ]
  },
  {
   "cell_type": "code",
   "execution_count": null,
   "metadata": {},
   "outputs": [],
   "source": [
    "var detections = model.newPredictor().predict(img);\n",
    "\n",
    "detections"
   ]
  },
  {
   "cell_type": "markdown",
   "metadata": {},
   "source": [
    "## Check detected result"
   ]
  },
  {
   "cell_type": "code",
   "execution_count": null,
   "metadata": {},
   "outputs": [],
   "source": [
    "ImageVisualization.drawBoundingBoxes(img, detections);\n",
    "img"
   ]
  },
  {
   "cell_type": "markdown",
   "metadata": {},
   "source": [
    "## Summary\n",
    "\n",
    "Using the model zoo model we provided, you can run inference with just 3 lines of code:\n",
    "\n",
    "```\n",
    "var img = BufferedImageUtils.fromFile(Paths.get(\"../examples/src/test/resources/3dogs.jpg\"));\n",
    "var model = MxModelZoo.SSD.loadModel();\n",
    "var detections = model.newPredictor().predict(img);\n",
    "```\n",
    "\n",
    "You can find full SsdExample source code [here](https://github.com/awslabs/djl/blob/master/examples/docs/object_detection.md).\n"
   ]
  },
  {
   "cell_type": "code",
   "execution_count": null,
   "metadata": {},
   "outputs": [],
   "source": []
  }
 ],
 "metadata": {
  "kernelspec": {
   "display_name": "Java",
   "language": "java",
   "name": "java"
  },
  "language_info": {
   "codemirror_mode": "java",
   "file_extension": ".jshell",
   "mimetype": "text/x-java-source",
   "name": "Java",
   "pygments_lexer": "java",
   "version": "12.0.2+10"
  }
 },
 "nbformat": 4,
 "nbformat_minor": 2
}
