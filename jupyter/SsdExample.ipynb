{
 "cells": [
  {
   "cell_type": "code",
   "execution_count": null,
   "metadata": {},
   "outputs": [],
   "source": [
    "%mavenRepo s3 https://joule.s3.amazonaws.com/repo"
   ]
  },
  {
   "cell_type": "code",
   "execution_count": null,
   "metadata": {},
   "outputs": [],
   "source": [
    "%maven software.amazon.ai:joule-api:0.2.0-SNAPSHOT\n",
    "%maven org.apache.mxnet:mxnet-joule:0.2.0-SNAPSHOT\n",
    "%maven org.slf4j:slf4j-api:1.7.26\n",
    "%maven org.slf4j:slf4j-simple:1.7.26\n",
    "%maven net.java.dev.jna:jna:5.3.0\n",
    "// %maven org.apache.mxnet:mxnet-native-mkl:jar:osx-x86_64:1.5.0-SNAPSHOT"
   ]
  },
  {
   "cell_type": "code",
   "execution_count": null,
   "metadata": {},
   "outputs": [],
   "source": [
    "%%loadFromPOM\n",
    "  <repositories>\n",
    "    <repository>\n",
    "      <id>joule</id>\n",
    "      <url>https://joule.s3.amazonaws.com/repo</url>\n",
    "    </repository>\n",
    "  </repositories>\n",
    "\n",
    "  <dependencies>\n",
    "    <dependency>\n",
    "      <groupId>org.apache.mxnet</groupId>\n",
    "      <artifactId>mxnet-native-mkl</artifactId>\n",
    "      <version>1.5.0-SNAPSHOT</version>\n",
    "      <classifier>osx-x86_64</classifier>\n",
    "    </dependency>\n",
    "  </dependencies>\n"
   ]
  },
  {
   "cell_type": "code",
   "execution_count": null,
   "metadata": {},
   "outputs": [],
   "source": [
    "import java.awt.image.*;\n",
    "import java.nio.file.*;\n",
    "import java.util.*;\n",
    "import software.amazon.ai.*;\n",
    "import software.amazon.ai.inference.*;\n",
    "import software.amazon.ai.ndarray.*;\n",
    "import software.amazon.ai.ndarray.index.*;\n",
    "import software.amazon.ai.modality.*;\n",
    "import software.amazon.ai.modality.cv.*;\n",
    "import software.amazon.ai.util.*;\n"
   ]
  },
  {
   "cell_type": "code",
   "execution_count": null,
   "metadata": {},
   "outputs": [],
   "source": [
    "var userHome = System.getProperty(\"user.home\");\n",
    "var modelDir = Paths.get(userHome, \".model_zoo/resnet50_ssd\");\n",
    "var imageFile = Paths.get(\"../examples/src/test/resources/3dogs.jpg\").toRealPath();\n",
    "var modelName = \"resnet50_ssd_model\";\n",
    "\n",
    "modelDir"
   ]
  },
  {
   "cell_type": "code",
   "execution_count": null,
   "metadata": {},
   "outputs": [],
   "source": [
    "var img = Images.loadImageFromFile(imageFile);\n",
    "int width = img.getWidth();\n",
    "int height = img.getHeight();\n",
    "img"
   ]
  },
  {
   "cell_type": "code",
   "execution_count": null,
   "metadata": {},
   "outputs": [],
   "source": [
    "\"width: \" + width + \", height: \" + height"
   ]
  },
  {
   "cell_type": "code",
   "execution_count": null,
   "metadata": {},
   "outputs": [],
   "source": [
    "var model = Model.loadModel(modelDir, modelName);\n",
    "var synset = model.getArtifact(\"synset.txt\", Utils::readLines);\n"
   ]
  },
  {
   "cell_type": "code",
   "execution_count": null,
   "metadata": {},
   "outputs": [],
   "source": [
    "// Resize image to match the size that tained for the model\n",
    "\n",
    "var resizedImg = Images.resizeImage(img, 512, 512);"
   ]
  },
  {
   "cell_type": "code",
   "execution_count": null,
   "metadata": {},
   "outputs": [],
   "source": [
    "var translator = new DefaultImageTranslator();"
   ]
  },
  {
   "cell_type": "code",
   "execution_count": null,
   "metadata": {},
   "outputs": [],
   "source": [
    "var predictor = Predictor.newInstance(model, translator);\n",
    "NDList list = predictor.predict(resizedImg);"
   ]
  },
  {
   "cell_type": "code",
   "execution_count": null,
   "metadata": {},
   "outputs": [],
   "source": [
    "// Post processing to convert NDArray to meaningful output\n",
    "\n",
    "var detections = new ArrayList<DetectedObject>();\n",
    "var array = list.get(0).get(0);\n",
    "long length = array.getShape().head();\n",
    "for (int i = 0; i < length; ++i) {\n",
    "    try (NDArray item = array.get(i)) {\n",
    "        float[] values = item.toFloatArray();\n",
    "        int classId = (int) values[0];\n",
    "        float probability = values[1];\n",
    "        if (classId > 0 && probability > 0.2) {\n",
    "            String className = synset.get(classId);\n",
    "\n",
    "            double x = values[2];\n",
    "            double y = values[3];\n",
    "            double w = values[4] - x;\n",
    "            double h = values[5] - y;\n",
    "\n",
    "            var rect = new Rectangle(x, y, w, h);\n",
    "            detections.add(new DetectedObject(className, probability, rect));\n",
    "        }\n",
    "    }\n",
    "}\n"
   ]
  },
  {
   "cell_type": "code",
   "execution_count": null,
   "metadata": {},
   "outputs": [],
   "source": [
    "Images.drawBoundingBox(img, detections);\n",
    "img"
   ]
  },
  {
   "cell_type": "code",
   "execution_count": null,
   "metadata": {},
   "outputs": [],
   "source": []
  }
 ],
 "metadata": {
  "kernelspec": {
   "display_name": "Java",
   "language": "java",
   "name": "java"
  },
  "language_info": {
   "codemirror_mode": "java",
   "file_extension": ".jshell",
   "mimetype": "text/x-java-source",
   "name": "Java",
   "pygments_lexer": "java",
   "version": "12.0.1+12"
  }
 },
 "nbformat": 4,
 "nbformat_minor": 2
}
